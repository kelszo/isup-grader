{
 "cells": [
  {
   "cell_type": "code",
   "execution_count": 1,
   "source": [
    "import logging\n",
    "from pathlib import Path\n",
    "from timeit import default_timer as timer\n",
    "\n",
    "from isupgrader.data.panda_dataset import preprocess_panda_database\n",
    "import pandas as pd\n",
    "import humanize"
   ],
   "outputs": [
    {
     "output_type": "stream",
     "name": "stderr",
     "text": [
      "/opt/conda/lib/python3.8/site-packages/torch/package/_directory_reader.py:17: UserWarning: Failed to initialize NumPy: module compiled against API version 0xe but this version of numpy is 0xd (Triggered internally at  /opt/pytorch/pytorch/torch/csrc/utils/tensor_numpy.cpp:68.)\n",
      "  _dtype_to_storage = {data_type(0).dtype: data_type for data_type in _storages}\n"
     ]
    }
   ],
   "metadata": {}
  },
  {
   "cell_type": "code",
   "execution_count": 2,
   "source": [
    "logging.basicConfig(level=logging.INFO, format='[%(levelname)s] - %(asctime)s: %(message)s', datefmt=\"%d/%m %H:%M:%S\")"
   ],
   "outputs": [],
   "metadata": {}
  },
  {
   "cell_type": "code",
   "execution_count": 3,
   "source": [
    "PANDA_PATH=Path(\"/data/raw/panda\")\n",
    "OUTPUT_PATH=Path(\"/data/interim/panda\")"
   ],
   "outputs": [],
   "metadata": {}
  },
  {
   "cell_type": "code",
   "execution_count": 4,
   "source": [
    "df_raw = pd.read_csv(PANDA_PATH / \"train.csv\")\n",
    "\n",
    "logging.info(\"Starting: PANDA preprocessing database.\")\n",
    "start = timer()\n",
    "\n",
    "df_processed = preprocess_panda_database(df_raw)\n",
    "\n",
    "df_processed.to_csv(OUTPUT_PATH / \"train.processed.csv\", index=False)\n",
    "\n",
    "end = timer()\n",
    "time_taken = humanize.naturaldelta(end - start)\n",
    "logging.info(f\"Done processing. Preprocessing took {time_taken}\")"
   ],
   "outputs": [
    {
     "output_type": "stream",
     "name": "stderr",
     "text": [
      "[INFO] - 04/08 10:43:39: Starting: PANDA preprocessing database.\n",
      "[INFO] - 04/08 10:43:39: Done processing. Preprocessing took a moment\n"
     ]
    }
   ],
   "metadata": {}
  }
 ],
 "metadata": {
  "orig_nbformat": 4,
  "kernelspec": {
   "name": "python3",
   "display_name": "Python 3 (ipykernel)",
   "language": "python"
  },
  "language_info": {
   "name": "python",
   "version": "3.8.10",
   "mimetype": "text/x-python",
   "codemirror_mode": {
    "name": "ipython",
    "version": 3
   },
   "pygments_lexer": "ipython3",
   "nbconvert_exporter": "python",
   "file_extension": ".py"
  }
 },
 "nbformat": 4,
 "nbformat_minor": 2
}