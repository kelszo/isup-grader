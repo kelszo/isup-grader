{
 "cells": [
  {
   "cell_type": "code",
   "execution_count": 1,
   "source": [
    "%load_ext watermark\n",
    "%watermark -v -n -m -p pandas"
   ],
   "outputs": [
    {
     "output_type": "stream",
     "name": "stdout",
     "text": [
      "Python implementation: CPython\n",
      "Python version       : 3.8.10\n",
      "IPython version      : 7.25.0\n",
      "\n",
      "pandas: 1.3.1\n",
      "\n",
      "Compiler    : GCC 9.3.0\n",
      "OS          : Linux\n",
      "Release     : 4.15.0-151-generic\n",
      "Machine     : x86_64\n",
      "Processor   : x86_64\n",
      "CPU cores   : 40\n",
      "Architecture: 64bit\n",
      "\n"
     ]
    }
   ],
   "metadata": {}
  },
  {
   "cell_type": "code",
   "execution_count": 2,
   "source": [
    "import pandas as pd"
   ],
   "outputs": [],
   "metadata": {
    "execution": {
     "iopub.execute_input": "2021-07-09T17:39:08.097117Z",
     "iopub.status.busy": "2021-07-09T17:39:08.096531Z",
     "iopub.status.idle": "2021-07-09T17:39:08.110513Z",
     "shell.execute_reply": "2021-07-09T17:39:08.109778Z",
     "shell.execute_reply.started": "2021-07-09T17:39:08.097081Z"
    }
   }
  },
  {
   "cell_type": "code",
   "execution_count": 3,
   "source": [
    "TRAIN_IMAGES = \"/data/processed/panda/train_images/\"\n",
    "df = pd.read_csv(\"/data/processed/panda/slides_train.csv\")\n",
    "\n",
    "# Change negative gleason_score to 0+0\n",
    "df[\"gleason_score\"] = df[\"gleason_score\"].apply(lambda x: \"0+0\" if x==\"negative\" else x)"
   ],
   "outputs": [],
   "metadata": {
    "execution": {
     "iopub.execute_input": "2021-07-09T17:39:08.491609Z",
     "iopub.status.busy": "2021-07-09T17:39:08.491015Z",
     "iopub.status.idle": "2021-07-09T17:39:08.523094Z",
     "shell.execute_reply": "2021-07-09T17:39:08.521961Z",
     "shell.execute_reply.started": "2021-07-09T17:39:08.491575Z"
    }
   }
  },
  {
   "cell_type": "code",
   "execution_count": 4,
   "source": [
    "table1 = df.groupby([\"data_provider\", \"isup_grade\"]).size().reset_index(name=\"counts\")\n",
    "table1.style.background_gradient(cmap=\"Purples\", vmin=5)"
   ],
   "outputs": [
    {
     "output_type": "execute_result",
     "data": {
      "text/plain": [
       "<pandas.io.formats.style.Styler at 0x7f975c5a7ca0>"
      ],
      "text/html": [
       "<style type=\"text/css\">\n",
       "#T_bcc7a_row0_col1, #T_bcc7a_row1_col1, #T_bcc7a_row2_col1, #T_bcc7a_row3_col1, #T_bcc7a_row4_col1, #T_bcc7a_row5_col1, #T_bcc7a_row6_col1, #T_bcc7a_row7_col1, #T_bcc7a_row8_col1, #T_bcc7a_row9_col1, #T_bcc7a_row10_col1, #T_bcc7a_row11_col1 {\n",
       "  background-color: #fcfbfd;\n",
       "  color: #000000;\n",
       "}\n",
       "#T_bcc7a_row0_col2 {\n",
       "  background-color: #3f007d;\n",
       "  color: #f1f1f1;\n",
       "}\n",
       "#T_bcc7a_row1_col2 {\n",
       "  background-color: #481185;\n",
       "  color: #f1f1f1;\n",
       "}\n",
       "#T_bcc7a_row2_col2 {\n",
       "  background-color: #c3c4e0;\n",
       "  color: #000000;\n",
       "}\n",
       "#T_bcc7a_row3_col2 {\n",
       "  background-color: #e9e8f2;\n",
       "  color: #000000;\n",
       "}\n",
       "#T_bcc7a_row4_col2 {\n",
       "  background-color: #dadaeb;\n",
       "  color: #000000;\n",
       "}\n",
       "#T_bcc7a_row5_col2 {\n",
       "  background-color: #efedf5;\n",
       "  color: #000000;\n",
       "}\n",
       "#T_bcc7a_row6_col2 {\n",
       "  background-color: #9e9ac8;\n",
       "  color: #f1f1f1;\n",
       "}\n",
       "#T_bcc7a_row7_col2 {\n",
       "  background-color: #adabd2;\n",
       "  color: #000000;\n",
       "}\n",
       "#T_bcc7a_row8_col2 {\n",
       "  background-color: #c2c3df;\n",
       "  color: #000000;\n",
       "}\n",
       "#T_bcc7a_row9_col2 {\n",
       "  background-color: #a3a0cb;\n",
       "  color: #f1f1f1;\n",
       "}\n",
       "#T_bcc7a_row10_col2 {\n",
       "  background-color: #b7b7d9;\n",
       "  color: #000000;\n",
       "}\n",
       "#T_bcc7a_row11_col2 {\n",
       "  background-color: #9d99c7;\n",
       "  color: #f1f1f1;\n",
       "}\n",
       "</style>\n",
       "<table id=\"T_bcc7a_\">\n",
       "  <thead>\n",
       "    <tr>\n",
       "      <th class=\"blank level0\" >&nbsp;</th>\n",
       "      <th class=\"col_heading level0 col0\" >data_provider</th>\n",
       "      <th class=\"col_heading level0 col1\" >isup_grade</th>\n",
       "      <th class=\"col_heading level0 col2\" >counts</th>\n",
       "    </tr>\n",
       "  </thead>\n",
       "  <tbody>\n",
       "    <tr>\n",
       "      <th id=\"T_bcc7a_level0_row0\" class=\"row_heading level0 row0\" >0</th>\n",
       "      <td id=\"T_bcc7a_row0_col0\" class=\"data row0 col0\" >karolinska</td>\n",
       "      <td id=\"T_bcc7a_row0_col1\" class=\"data row0 col1\" >0</td>\n",
       "      <td id=\"T_bcc7a_row0_col2\" class=\"data row0 col2\" >1925</td>\n",
       "    </tr>\n",
       "    <tr>\n",
       "      <th id=\"T_bcc7a_level0_row1\" class=\"row_heading level0 row1\" >1</th>\n",
       "      <td id=\"T_bcc7a_row1_col0\" class=\"data row1 col0\" >karolinska</td>\n",
       "      <td id=\"T_bcc7a_row1_col1\" class=\"data row1 col1\" >1</td>\n",
       "      <td id=\"T_bcc7a_row1_col2\" class=\"data row1 col2\" >1814</td>\n",
       "    </tr>\n",
       "    <tr>\n",
       "      <th id=\"T_bcc7a_level0_row2\" class=\"row_heading level0 row2\" >2</th>\n",
       "      <td id=\"T_bcc7a_row2_col0\" class=\"data row2 col0\" >karolinska</td>\n",
       "      <td id=\"T_bcc7a_row2_col1\" class=\"data row2 col1\" >2</td>\n",
       "      <td id=\"T_bcc7a_row2_col2\" class=\"data row2 col2\" >667</td>\n",
       "    </tr>\n",
       "    <tr>\n",
       "      <th id=\"T_bcc7a_level0_row3\" class=\"row_heading level0 row3\" >3</th>\n",
       "      <td id=\"T_bcc7a_row3_col0\" class=\"data row3 col0\" >karolinska</td>\n",
       "      <td id=\"T_bcc7a_row3_col1\" class=\"data row3 col1\" >3</td>\n",
       "      <td id=\"T_bcc7a_row3_col2\" class=\"data row3 col2\" >317</td>\n",
       "    </tr>\n",
       "    <tr>\n",
       "      <th id=\"T_bcc7a_level0_row4\" class=\"row_heading level0 row4\" >4</th>\n",
       "      <td id=\"T_bcc7a_row4_col0\" class=\"data row4 col0\" >karolinska</td>\n",
       "      <td id=\"T_bcc7a_row4_col1\" class=\"data row4 col1\" >4</td>\n",
       "      <td id=\"T_bcc7a_row4_col2\" class=\"data row4 col2\" >481</td>\n",
       "    </tr>\n",
       "    <tr>\n",
       "      <th id=\"T_bcc7a_level0_row5\" class=\"row_heading level0 row5\" >5</th>\n",
       "      <td id=\"T_bcc7a_row5_col0\" class=\"data row5 col0\" >karolinska</td>\n",
       "      <td id=\"T_bcc7a_row5_col1\" class=\"data row5 col1\" >5</td>\n",
       "      <td id=\"T_bcc7a_row5_col2\" class=\"data row5 col2\" >251</td>\n",
       "    </tr>\n",
       "    <tr>\n",
       "      <th id=\"T_bcc7a_level0_row6\" class=\"row_heading level0 row6\" >6</th>\n",
       "      <td id=\"T_bcc7a_row6_col0\" class=\"data row6 col0\" >radboud</td>\n",
       "      <td id=\"T_bcc7a_row6_col1\" class=\"data row6 col1\" >0</td>\n",
       "      <td id=\"T_bcc7a_row6_col2\" class=\"data row6 col2\" >967</td>\n",
       "    </tr>\n",
       "    <tr>\n",
       "      <th id=\"T_bcc7a_level0_row7\" class=\"row_heading level0 row7\" >7</th>\n",
       "      <td id=\"T_bcc7a_row7_col0\" class=\"data row7 col0\" >radboud</td>\n",
       "      <td id=\"T_bcc7a_row7_col1\" class=\"data row7 col1\" >1</td>\n",
       "      <td id=\"T_bcc7a_row7_col2\" class=\"data row7 col2\" >852</td>\n",
       "    </tr>\n",
       "    <tr>\n",
       "      <th id=\"T_bcc7a_level0_row8\" class=\"row_heading level0 row8\" >8</th>\n",
       "      <td id=\"T_bcc7a_row8_col0\" class=\"data row8 col0\" >radboud</td>\n",
       "      <td id=\"T_bcc7a_row8_col1\" class=\"data row8 col1\" >2</td>\n",
       "      <td id=\"T_bcc7a_row8_col2\" class=\"data row8 col2\" >675</td>\n",
       "    </tr>\n",
       "    <tr>\n",
       "      <th id=\"T_bcc7a_level0_row9\" class=\"row_heading level0 row9\" >9</th>\n",
       "      <td id=\"T_bcc7a_row9_col0\" class=\"data row9 col0\" >radboud</td>\n",
       "      <td id=\"T_bcc7a_row9_col1\" class=\"data row9 col1\" >3</td>\n",
       "      <td id=\"T_bcc7a_row9_col2\" class=\"data row9 col2\" >925</td>\n",
       "    </tr>\n",
       "    <tr>\n",
       "      <th id=\"T_bcc7a_level0_row10\" class=\"row_heading level0 row10\" >10</th>\n",
       "      <td id=\"T_bcc7a_row10_col0\" class=\"data row10 col0\" >radboud</td>\n",
       "      <td id=\"T_bcc7a_row10_col1\" class=\"data row10 col1\" >4</td>\n",
       "      <td id=\"T_bcc7a_row10_col2\" class=\"data row10 col2\" >768</td>\n",
       "    </tr>\n",
       "    <tr>\n",
       "      <th id=\"T_bcc7a_level0_row11\" class=\"row_heading level0 row11\" >11</th>\n",
       "      <td id=\"T_bcc7a_row11_col0\" class=\"data row11 col0\" >radboud</td>\n",
       "      <td id=\"T_bcc7a_row11_col1\" class=\"data row11 col1\" >5</td>\n",
       "      <td id=\"T_bcc7a_row11_col2\" class=\"data row11 col2\" >973</td>\n",
       "    </tr>\n",
       "  </tbody>\n",
       "</table>\n"
      ]
     },
     "metadata": {},
     "execution_count": 4
    }
   ],
   "metadata": {
    "execution": {
     "iopub.execute_input": "2021-07-09T17:39:08.621632Z",
     "iopub.status.busy": "2021-07-09T17:39:08.621197Z",
     "iopub.status.idle": "2021-07-09T17:39:08.649356Z",
     "shell.execute_reply": "2021-07-09T17:39:08.648379Z",
     "shell.execute_reply.started": "2021-07-09T17:39:08.621596Z"
    }
   }
  },
  {
   "cell_type": "code",
   "execution_count": 5,
   "source": [
    "df.sample(10)"
   ],
   "outputs": [
    {
     "output_type": "execute_result",
     "data": {
      "text/plain": [
       "                              slide_id data_provider  isup_grade  \\\n",
       "9443  e4c7cbde1e884cb7dfe56cbae90847cc    karolinska           2   \n",
       "515   0cab431ccdc996b408623172f47fabfc    karolinska           4   \n",
       "9711  eb341a42f1e27d3af125fa1bcba8c799       radboud           1   \n",
       "6787  a54c950714ffed6411b859ac44766467       radboud           5   \n",
       "8562  cea56801015e8f1ee57c6e13bdb4231b    karolinska           1   \n",
       "5556  888f79c029f30ea78bc955396a17b233    karolinska           0   \n",
       "7328  b1fc28c48cb6e83e5015074c3b61ae65       radboud           3   \n",
       "8082  c37c0f37a50ccbf5e51b148a28055111    karolinska           0   \n",
       "1757  2c0e4995c6e82389dc1964ab5ac6a407       radboud           1   \n",
       "8606  cf8ab5a2ce0ff0b3d025ddb3ba1937a2       radboud           4   \n",
       "\n",
       "     gleason_score  n_tiles  \n",
       "9443           3+4       32  \n",
       "515            4+4       29  \n",
       "9711           3+3       19  \n",
       "6787           4+5        9  \n",
       "8562           3+3       15  \n",
       "5556           0+0       37  \n",
       "7328           4+3       13  \n",
       "8082           0+0       20  \n",
       "1757           3+3       20  \n",
       "8606           4+4       31  "
      ],
      "text/html": [
       "<div>\n",
       "<style scoped>\n",
       "    .dataframe tbody tr th:only-of-type {\n",
       "        vertical-align: middle;\n",
       "    }\n",
       "\n",
       "    .dataframe tbody tr th {\n",
       "        vertical-align: top;\n",
       "    }\n",
       "\n",
       "    .dataframe thead th {\n",
       "        text-align: right;\n",
       "    }\n",
       "</style>\n",
       "<table border=\"1\" class=\"dataframe\">\n",
       "  <thead>\n",
       "    <tr style=\"text-align: right;\">\n",
       "      <th></th>\n",
       "      <th>slide_id</th>\n",
       "      <th>data_provider</th>\n",
       "      <th>isup_grade</th>\n",
       "      <th>gleason_score</th>\n",
       "      <th>n_tiles</th>\n",
       "    </tr>\n",
       "  </thead>\n",
       "  <tbody>\n",
       "    <tr>\n",
       "      <th>9443</th>\n",
       "      <td>e4c7cbde1e884cb7dfe56cbae90847cc</td>\n",
       "      <td>karolinska</td>\n",
       "      <td>2</td>\n",
       "      <td>3+4</td>\n",
       "      <td>32</td>\n",
       "    </tr>\n",
       "    <tr>\n",
       "      <th>515</th>\n",
       "      <td>0cab431ccdc996b408623172f47fabfc</td>\n",
       "      <td>karolinska</td>\n",
       "      <td>4</td>\n",
       "      <td>4+4</td>\n",
       "      <td>29</td>\n",
       "    </tr>\n",
       "    <tr>\n",
       "      <th>9711</th>\n",
       "      <td>eb341a42f1e27d3af125fa1bcba8c799</td>\n",
       "      <td>radboud</td>\n",
       "      <td>1</td>\n",
       "      <td>3+3</td>\n",
       "      <td>19</td>\n",
       "    </tr>\n",
       "    <tr>\n",
       "      <th>6787</th>\n",
       "      <td>a54c950714ffed6411b859ac44766467</td>\n",
       "      <td>radboud</td>\n",
       "      <td>5</td>\n",
       "      <td>4+5</td>\n",
       "      <td>9</td>\n",
       "    </tr>\n",
       "    <tr>\n",
       "      <th>8562</th>\n",
       "      <td>cea56801015e8f1ee57c6e13bdb4231b</td>\n",
       "      <td>karolinska</td>\n",
       "      <td>1</td>\n",
       "      <td>3+3</td>\n",
       "      <td>15</td>\n",
       "    </tr>\n",
       "    <tr>\n",
       "      <th>5556</th>\n",
       "      <td>888f79c029f30ea78bc955396a17b233</td>\n",
       "      <td>karolinska</td>\n",
       "      <td>0</td>\n",
       "      <td>0+0</td>\n",
       "      <td>37</td>\n",
       "    </tr>\n",
       "    <tr>\n",
       "      <th>7328</th>\n",
       "      <td>b1fc28c48cb6e83e5015074c3b61ae65</td>\n",
       "      <td>radboud</td>\n",
       "      <td>3</td>\n",
       "      <td>4+3</td>\n",
       "      <td>13</td>\n",
       "    </tr>\n",
       "    <tr>\n",
       "      <th>8082</th>\n",
       "      <td>c37c0f37a50ccbf5e51b148a28055111</td>\n",
       "      <td>karolinska</td>\n",
       "      <td>0</td>\n",
       "      <td>0+0</td>\n",
       "      <td>20</td>\n",
       "    </tr>\n",
       "    <tr>\n",
       "      <th>1757</th>\n",
       "      <td>2c0e4995c6e82389dc1964ab5ac6a407</td>\n",
       "      <td>radboud</td>\n",
       "      <td>1</td>\n",
       "      <td>3+3</td>\n",
       "      <td>20</td>\n",
       "    </tr>\n",
       "    <tr>\n",
       "      <th>8606</th>\n",
       "      <td>cf8ab5a2ce0ff0b3d025ddb3ba1937a2</td>\n",
       "      <td>radboud</td>\n",
       "      <td>4</td>\n",
       "      <td>4+4</td>\n",
       "      <td>31</td>\n",
       "    </tr>\n",
       "  </tbody>\n",
       "</table>\n",
       "</div>"
      ]
     },
     "metadata": {},
     "execution_count": 5
    }
   ],
   "metadata": {
    "execution": {
     "iopub.execute_input": "2021-07-09T17:39:08.886963Z",
     "iopub.status.busy": "2021-07-09T17:39:08.886337Z",
     "iopub.status.idle": "2021-07-09T17:39:08.900721Z",
     "shell.execute_reply": "2021-07-09T17:39:08.899249Z",
     "shell.execute_reply.started": "2021-07-09T17:39:08.886906Z"
    }
   }
  },
  {
   "cell_type": "code",
   "execution_count": 16,
   "source": [
    "#df[\"n_tiles\"].plot(kind=\"bar\")\n",
    "df.groupby(\"n_tiles\").size().plot()\n",
    "df.groupby(\"n_tiles\").size().median()"
   ],
   "outputs": [
    {
     "output_type": "error",
     "ename": "AttributeError",
     "evalue": "'Series' object has no attribute 'average'",
     "traceback": [
      "\u001b[0;31m---------------------------------------------------------------------------\u001b[0m",
      "\u001b[0;31mAttributeError\u001b[0m                            Traceback (most recent call last)",
      "\u001b[0;32m/tmp/ipykernel_31795/494692165.py\u001b[0m in \u001b[0;36m<module>\u001b[0;34m\u001b[0m\n\u001b[1;32m      1\u001b[0m \u001b[0;31m#df[\"n_tiles\"].plot(kind=\"bar\")\u001b[0m\u001b[0;34m\u001b[0m\u001b[0;34m\u001b[0m\u001b[0;34m\u001b[0m\u001b[0m\n\u001b[1;32m      2\u001b[0m \u001b[0mdf\u001b[0m\u001b[0;34m.\u001b[0m\u001b[0mgroupby\u001b[0m\u001b[0;34m(\u001b[0m\u001b[0;34m\"n_tiles\"\u001b[0m\u001b[0;34m)\u001b[0m\u001b[0;34m.\u001b[0m\u001b[0msize\u001b[0m\u001b[0;34m(\u001b[0m\u001b[0;34m)\u001b[0m\u001b[0;34m.\u001b[0m\u001b[0mplot\u001b[0m\u001b[0;34m(\u001b[0m\u001b[0;34m)\u001b[0m\u001b[0;34m\u001b[0m\u001b[0;34m\u001b[0m\u001b[0m\n\u001b[0;32m----> 3\u001b[0;31m \u001b[0mdf\u001b[0m\u001b[0;34m.\u001b[0m\u001b[0mgroupby\u001b[0m\u001b[0;34m(\u001b[0m\u001b[0;34m\"n_tiles\"\u001b[0m\u001b[0;34m)\u001b[0m\u001b[0;34m.\u001b[0m\u001b[0msize\u001b[0m\u001b[0;34m(\u001b[0m\u001b[0;34m)\u001b[0m\u001b[0;34m.\u001b[0m\u001b[0maverage\u001b[0m\u001b[0;34m(\u001b[0m\u001b[0;34m)\u001b[0m\u001b[0;34m\u001b[0m\u001b[0;34m\u001b[0m\u001b[0m\n\u001b[0m",
      "\u001b[0;32m/opt/conda/lib/python3.8/site-packages/pandas/core/generic.py\u001b[0m in \u001b[0;36m__getattr__\u001b[0;34m(self, name)\u001b[0m\n\u001b[1;32m   5476\u001b[0m         ):\n\u001b[1;32m   5477\u001b[0m             \u001b[0;32mreturn\u001b[0m \u001b[0mself\u001b[0m\u001b[0;34m[\u001b[0m\u001b[0mname\u001b[0m\u001b[0;34m]\u001b[0m\u001b[0;34m\u001b[0m\u001b[0;34m\u001b[0m\u001b[0m\n\u001b[0;32m-> 5478\u001b[0;31m         \u001b[0;32mreturn\u001b[0m \u001b[0mobject\u001b[0m\u001b[0;34m.\u001b[0m\u001b[0m__getattribute__\u001b[0m\u001b[0;34m(\u001b[0m\u001b[0mself\u001b[0m\u001b[0;34m,\u001b[0m \u001b[0mname\u001b[0m\u001b[0;34m)\u001b[0m\u001b[0;34m\u001b[0m\u001b[0;34m\u001b[0m\u001b[0m\n\u001b[0m\u001b[1;32m   5479\u001b[0m \u001b[0;34m\u001b[0m\u001b[0m\n\u001b[1;32m   5480\u001b[0m     \u001b[0;32mdef\u001b[0m \u001b[0m__setattr__\u001b[0m\u001b[0;34m(\u001b[0m\u001b[0mself\u001b[0m\u001b[0;34m,\u001b[0m \u001b[0mname\u001b[0m\u001b[0;34m:\u001b[0m \u001b[0mstr\u001b[0m\u001b[0;34m,\u001b[0m \u001b[0mvalue\u001b[0m\u001b[0;34m)\u001b[0m \u001b[0;34m->\u001b[0m \u001b[0;32mNone\u001b[0m\u001b[0;34m:\u001b[0m\u001b[0;34m\u001b[0m\u001b[0;34m\u001b[0m\u001b[0m\n",
      "\u001b[0;31mAttributeError\u001b[0m: 'Series' object has no attribute 'average'"
     ]
    },
    {
     "output_type": "display_data",
     "data": {
      "text/plain": [
       "<Figure size 432x288 with 1 Axes>"
      ],
      "image/png": "[encoded data removed]"
     },
     "metadata": {
      "needs_background": "light"
     }
    }
   ],
   "metadata": {}
  }
 ],
 "metadata": {
  "kernelspec": {
   "display_name": "Python 3 (ipykernel)",
   "language": "python",
   "name": "python3"
  },
  "language_info": {
   "name": "python",
   "version": "3.8.10",
   "mimetype": "text/x-python",
   "codemirror_mode": {
    "name": "ipython",
    "version": 3
   },
   "pygments_lexer": "ipython3",
   "nbconvert_exporter": "python",
   "file_extension": ".py"
  }
 },
 "nbformat": 4,
 "nbformat_minor": 4
}